{
 "cells": [
  {
   "cell_type": "code",
   "execution_count": 4,
   "metadata": {
    "collapsed": false
   },
   "outputs": [
    {
     "data": {
      "text/html": [
       "<pre>Finished parsing file https://static.turi.com/datasets/bond/bond_vertices.csv</pre>"
      ],
      "text/plain": [
       "Finished parsing file https://static.turi.com/datasets/bond/bond_vertices.csv"
      ]
     },
     "metadata": {},
     "output_type": "display_data"
    },
    {
     "data": {
      "text/html": [
       "<pre>Parsing completed. Parsed 10 lines in 0.014822 secs.</pre>"
      ],
      "text/plain": [
       "Parsing completed. Parsed 10 lines in 0.014822 secs."
      ]
     },
     "metadata": {},
     "output_type": "display_data"
    },
    {
     "name": "stdout",
     "output_type": "stream",
     "text": [
      "------------------------------------------------------\n",
      "Inferred types from first 100 line(s) of file as \n",
      "column_type_hints=[str,str,int,int]\n",
      "If parsing fails due to incorrect types, you can correct\n",
      "the inferred type list above and pass it to read_csv in\n",
      "the column_type_hints argument\n",
      "------------------------------------------------------\n"
     ]
    },
    {
     "data": {
      "text/html": [
       "<pre>Finished parsing file https://static.turi.com/datasets/bond/bond_vertices.csv</pre>"
      ],
      "text/plain": [
       "Finished parsing file https://static.turi.com/datasets/bond/bond_vertices.csv"
      ]
     },
     "metadata": {},
     "output_type": "display_data"
    },
    {
     "data": {
      "text/html": [
       "<pre>Parsing completed. Parsed 10 lines in 0.014582 secs.</pre>"
      ],
      "text/plain": [
       "Parsing completed. Parsed 10 lines in 0.014582 secs."
      ]
     },
     "metadata": {},
     "output_type": "display_data"
    },
    {
     "data": {
      "text/html": [
       "<pre>Finished parsing file https://static.turi.com/datasets/bond/bond_edges.csv</pre>"
      ],
      "text/plain": [
       "Finished parsing file https://static.turi.com/datasets/bond/bond_edges.csv"
      ]
     },
     "metadata": {},
     "output_type": "display_data"
    },
    {
     "name": "stdout",
     "output_type": "stream",
     "text": [
      "------------------------------------------------------"
     ]
    },
    {
     "data": {
      "text/html": [
       "<pre>Parsing completed. Parsed 20 lines in 0.014145 secs.</pre>"
      ],
      "text/plain": [
       "Parsing completed. Parsed 20 lines in 0.014145 secs."
      ]
     },
     "metadata": {},
     "output_type": "display_data"
    },
    {
     "name": "stdout",
     "output_type": "stream",
     "text": [
      "\n",
      "Inferred types from first 100 line(s) of file as \n",
      "column_type_hints=[str,str,str]\n",
      "If parsing fails due to incorrect types, you can correct\n",
      "the inferred type list above and pass it to read_csv in\n",
      "the column_type_hints argument\n",
      "------------------------------------------------------\n"
     ]
    },
    {
     "data": {
      "text/html": [
       "<pre>Finished parsing file https://static.turi.com/datasets/bond/bond_edges.csv</pre>"
      ],
      "text/plain": [
       "Finished parsing file https://static.turi.com/datasets/bond/bond_edges.csv"
      ]
     },
     "metadata": {},
     "output_type": "display_data"
    },
    {
     "data": {
      "text/html": [
       "<pre>Parsing completed. Parsed 20 lines in 0.014627 secs.</pre>"
      ],
      "text/plain": [
       "Parsing completed. Parsed 20 lines in 0.014627 secs."
      ]
     },
     "metadata": {},
     "output_type": "display_data"
    },
    {
     "name": "stdout",
     "output_type": "stream",
     "text": [
      "+----------------+--------+-----------------+---------+\n",
      "|      name      | gender | license_to_kill | villian |\n",
      "+----------------+--------+-----------------+---------+\n",
      "|   James Bond   |   M    |        1        |    0    |\n",
      "|       M        |   M    |        1        |    0    |\n",
      "|   Moneypenny   |   F    |        1        |    0    |\n",
      "|       Q        |   M    |        1        |    0    |\n",
      "|    Wai Lin     |   F    |        1        |    0    |\n",
      "| Inga Bergstorm |   F    |        0        |    0    |\n",
      "| Elliot Carver  |   M    |        0        |    1    |\n",
      "|  Paris Carver  |   F    |        0        |    1    |\n",
      "|   Gotz Otto    |   M    |        0        |    1    |\n",
      "|  Henry Gupta   |   M    |        0        |    1    |\n",
      "+----------------+--------+-----------------+---------+\n",
      "[10 rows x 4 columns]\n",
      "\n",
      "+----------------+------------+------------+\n",
      "|      src       |    dst     |  relation  |\n",
      "+----------------+------------+------------+\n",
      "|    Wai Lin     | James Bond |   friend   |\n",
      "|       M        | James Bond |  worksfor  |\n",
      "| Inga Bergstorm | James Bond |   friend   |\n",
      "| Elliot Carver  | James Bond | killed_by  |\n",
      "|   Gotz Otto    | James Bond | killed_by  |\n",
      "|   James Bond   |     M      | managed_by |\n",
      "|       Q        |     M      | managed_by |\n",
      "|   Moneypenny   |     M      | managed_by |\n",
      "|       Q        | Moneypenny | colleague  |\n",
      "|       M        | Moneypenny |  worksfor  |\n",
      "+----------------+------------+------------+\n",
      "[20 rows x 3 columns]\n",
      "Note: Only the head of the SFrame is printed.\n",
      "You can use print_rows(num_rows=m, num_columns=n) to print more rows and columns.\n"
     ]
    },
    {
     "name": "stderr",
     "output_type": "stream",
     "text": [
      "/usr/local/lib/python2.7/dist-packages/simplejson/encoder.py:291: DeprecationWarning: Interpreting naive datetime as local 2018-01-02 15:18:56.579246. Please add timezone info to timestamps.\n",
      "  chunks = self.iterencode(o, _one_shot=True)\n"
     ]
    }
   ],
   "source": [
    "'''\n",
    "Created on 2 Jan 2018\n",
    "\n",
    "@author: tzungtzu\n",
    "'''\n",
    "\n",
    "from turicreate import SFrame\n",
    "from turicreate import SGraph, Vertex, Edge\n",
    "\n",
    "url = 'https://static.turi.com/datasets/bond/bond_vertices.csv'\n",
    "vertex_data = SFrame.read_csv(url)\n",
    "\n",
    "url = 'https://static.turi.com/datasets/bond/bond_edges.csv'\n",
    "edge_data = SFrame.read_csv(url)\n",
    "\n",
    "print(vertex_data)\n",
    "print(edge_data)\n",
    "\n",
    "g = SGraph(vertices=SFrame(vertex_data), edges=edge_data, vid_field='name',\n",
    "           src_field='src', dst_field='dst')"
   ]
  },
  {
   "cell_type": "code",
   "execution_count": 5,
   "metadata": {
    "collapsed": false
   },
   "outputs": [
    {
     "name": "stdout",
     "output_type": "stream",
     "text": [
      "+------------+--------+-----------------+---------+\n",
      "|    __id    | gender | license_to_kill | villian |\n",
      "+------------+--------+-----------------+---------+\n",
      "| James Bond |   M    |        1        |    0    |\n",
      "+------------+--------+-----------------+---------+\n",
      "[1 rows x 4 columns]\n",
      "\n",
      "+----------------+--------+-----------------+---------+\n",
      "|      __id      | gender | license_to_kill | villian |\n",
      "+----------------+--------+-----------------+---------+\n",
      "|   Moneypenny   |   F    |        1        |    0    |\n",
      "| Inga Bergstorm |   F    |        0        |    0    |\n",
      "|  Henry Gupta   |   M    |        0        |    1    |\n",
      "|       Q        |   M    |        1        |    0    |\n",
      "|    Wai Lin     |   F    |        1        |    0    |\n",
      "|  Paris Carver  |   F    |        0        |    1    |\n",
      "|       M        |   M    |        1        |    0    |\n",
      "|   James Bond   |   M    |        1        |    0    |\n",
      "| Elliot Carver  |   M    |        0        |    1    |\n",
      "|   Gotz Otto    |   M    |        0        |    1    |\n",
      "+----------------+--------+-----------------+---------+\n",
      "[10 rows x 4 columns]\n",
      "\n"
     ]
    },
    {
     "name": "stderr",
     "output_type": "stream",
     "text": [
      "/usr/local/lib/python2.7/dist-packages/simplejson/encoder.py:291: DeprecationWarning: Interpreting naive datetime as local 2018-01-02 15:19:53.129029. Please add timezone info to timestamps.\n",
      "  chunks = self.iterencode(o, _one_shot=True)\n"
     ]
    }
   ],
   "source": [
    "sub_verts = g.get_vertices(ids=['James Bond'])\n",
    "print sub_verts\n",
    "print g.vertices"
   ]
  },
  {
   "cell_type": "code",
   "execution_count": 6,
   "metadata": {
    "collapsed": false
   },
   "outputs": [
    {
     "data": {
      "text/plain": [
       "SGraph({'num_edges': 15, 'num_vertices': 8})\n",
       "Vertex Fields:['__id', 'gender', 'license_to_kill', 'villian']\n",
       "Edge Fields:['__src_id', '__dst_id', 'relation']"
      ]
     },
     "execution_count": 6,
     "metadata": {},
     "output_type": "execute_result"
    },
    {
     "name": "stderr",
     "output_type": "stream",
     "text": [
      "/usr/local/lib/python2.7/dist-packages/simplejson/encoder.py:291: DeprecationWarning: Interpreting naive datetime as local 2018-01-02 15:25:43.550489. Please add timezone info to timestamps.\n",
      "  chunks = self.iterencode(o, _one_shot=True)\n"
     ]
    }
   ],
   "source": [
    "targets = ['James Bond', 'Moneypenny']\n",
    "subgraph = g.get_neighborhood(ids=targets, radius=1, full_subgraph=True)\n",
    "subgraph"
   ]
  },
  {
   "cell_type": "code",
   "execution_count": null,
   "metadata": {
    "collapsed": true
   },
   "outputs": [],
   "source": []
  }
 ],
 "metadata": {
  "kernelspec": {
   "display_name": "Python 2",
   "language": "python",
   "name": "python2"
  },
  "language_info": {
   "codemirror_mode": {
    "name": "ipython",
    "version": 2
   },
   "file_extension": ".py",
   "mimetype": "text/x-python",
   "name": "python",
   "nbconvert_exporter": "python",
   "pygments_lexer": "ipython2",
   "version": "2.7.12"
  }
 },
 "nbformat": 4,
 "nbformat_minor": 2
}
